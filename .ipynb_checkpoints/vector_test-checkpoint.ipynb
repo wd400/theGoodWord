{
 "cells": [
  {
   "cell_type": "code",
   "execution_count": 1,
   "id": "428f8cc3",
   "metadata": {},
   "outputs": [],
   "source": [
    "import sqlite3\n",
    "connection = sqlite3.connect(\"/home/zach/Downloads/database_fr.db\")\n",
    "cursor = connection.cursor()"
   ]
  },
  {
   "cell_type": "code",
   "execution_count": 2,
   "id": "94424a3d",
   "metadata": {},
   "outputs": [
    {
     "ename": "OperationalError",
     "evalue": "no such table: dictionary",
     "output_type": "error",
     "traceback": [
      "\u001b[0;31m---------------------------------------------------------------------------\u001b[0m",
      "\u001b[0;31mOperationalError\u001b[0m                          Traceback (most recent call last)",
      "\u001b[0;32m/tmp/ipykernel_123111/4059730872.py\u001b[0m in \u001b[0;36m<module>\u001b[0;34m\u001b[0m\n\u001b[0;32m----> 1\u001b[0;31m \u001b[0mdb_data\u001b[0m \u001b[0;34m=\u001b[0m \u001b[0mcursor\u001b[0m\u001b[0;34m.\u001b[0m\u001b[0mexecute\u001b[0m\u001b[0;34m(\u001b[0m\u001b[0;34m\"SELECT id,word,definition FROM dictionary\"\u001b[0m\u001b[0;34m)\u001b[0m\u001b[0;34m.\u001b[0m\u001b[0mfetchall\u001b[0m\u001b[0;34m(\u001b[0m\u001b[0;34m)\u001b[0m\u001b[0;34m\u001b[0m\u001b[0;34m\u001b[0m\u001b[0m\n\u001b[0m\u001b[1;32m      2\u001b[0m \u001b[0mdb_data\u001b[0m\u001b[0;34m.\u001b[0m\u001b[0msort\u001b[0m\u001b[0;34m(\u001b[0m\u001b[0mkey\u001b[0m\u001b[0;34m=\u001b[0m\u001b[0;32mlambda\u001b[0m \u001b[0mx\u001b[0m\u001b[0;34m:\u001b[0m\u001b[0mx\u001b[0m\u001b[0;34m[\u001b[0m\u001b[0;36m0\u001b[0m\u001b[0;34m]\u001b[0m\u001b[0;34m)\u001b[0m\u001b[0;34m\u001b[0m\u001b[0;34m\u001b[0m\u001b[0m\n\u001b[1;32m      3\u001b[0m \u001b[0mdb_defs\u001b[0m\u001b[0;34m=\u001b[0m\u001b[0;34m[\u001b[0m \u001b[0mrow\u001b[0m\u001b[0;34m[\u001b[0m\u001b[0;36m2\u001b[0m\u001b[0;34m]\u001b[0m \u001b[0;32mfor\u001b[0m \u001b[0mrow\u001b[0m \u001b[0;32min\u001b[0m \u001b[0mdb_data\u001b[0m\u001b[0;34m]\u001b[0m\u001b[0;34m\u001b[0m\u001b[0;34m\u001b[0m\u001b[0m\n\u001b[1;32m      4\u001b[0m \u001b[0mdb_words\u001b[0m\u001b[0;34m=\u001b[0m\u001b[0;34m[\u001b[0m\u001b[0mrow\u001b[0m\u001b[0;34m[\u001b[0m\u001b[0;36m1\u001b[0m\u001b[0;34m]\u001b[0m \u001b[0;32mfor\u001b[0m \u001b[0mrow\u001b[0m \u001b[0;32min\u001b[0m \u001b[0mdb_data\u001b[0m\u001b[0;34m]\u001b[0m\u001b[0;34m\u001b[0m\u001b[0;34m\u001b[0m\u001b[0m\n",
      "\u001b[0;31mOperationalError\u001b[0m: no such table: dictionary"
     ]
    }
   ],
   "source": [
    "db_data = cursor.execute(\"SELECT id,word,definition FROM dictionary\").fetchall()\n",
    "db_data.sort(key=lambda x:x[0])\n",
    "db_defs=[ row[2] for row in db_data]\n",
    "db_words=[row[1] for row in db_data]"
   ]
  },
  {
   "cell_type": "code",
   "execution_count": 6,
   "id": "381fb665",
   "metadata": {
    "scrolled": true
   },
   "outputs": [
    {
     "name": "stdout",
     "output_type": "stream",
     "text": [
      "31634.9348692894\n"
     ]
    }
   ],
   "source": [
    "start = time.time()\n",
    "embeddings = model.encode(db_defs)\n",
    "end = time.time()\n",
    "print(end - start)\n",
    "#1000=1min"
   ]
  },
  {
   "cell_type": "code",
   "execution_count": 13,
   "id": "ccd549a6",
   "metadata": {},
   "outputs": [],
   "source": [
    "import numpy as np\n",
    "#11:46"
   ]
  },
  {
   "cell_type": "code",
   "execution_count": 14,
   "id": "bf463414",
   "metadata": {},
   "outputs": [],
   "source": [
    "with open('def_embeddings.npy', 'wb') as f:\n",
    "    np.save(f, embeddings)"
   ]
  },
  {
   "cell_type": "code",
   "execution_count": 6,
   "id": "44a298b7",
   "metadata": {},
   "outputs": [],
   "source": [
    "from sentence_transformers import SentenceTransformer\n",
    "import time\n",
    "\n",
    "#https://huggingface.co/models?language=fr&library=sentence-transformers&sort=downloads\n",
    "model = SentenceTransformer('inokufu/flaubert-base-uncased-xnli-sts')"
   ]
  },
  {
   "cell_type": "code",
   "execution_count": 1,
   "id": "0a280a47",
   "metadata": {},
   "outputs": [],
   "source": [
    "import numpy as np\n",
    "embeddings=np.load('def_embeddings.npy')"
   ]
  },
  {
   "cell_type": "code",
   "execution_count": 2,
   "id": "3c808293",
   "metadata": {},
   "outputs": [],
   "source": [
    "from sklearn.neighbors import NearestNeighbors\n",
    "###TODO### ENLEVER les \"variante de\""
   ]
  },
  {
   "cell_type": "code",
   "execution_count": 3,
   "id": "143097c0",
   "metadata": {},
   "outputs": [],
   "source": [
    "neigh = NearestNeighbors(n_neighbors=30,  metric='cosine',\n",
    "                         algorithm='brute',\n",
    "                         n_jobs=-1)"
   ]
  },
  {
   "cell_type": "code",
   "execution_count": 4,
   "id": "0f486fcb",
   "metadata": {},
   "outputs": [
    {
     "data": {
      "text/html": [
       "<style>#sk-container-id-1 {color: black;background-color: white;}#sk-container-id-1 pre{padding: 0;}#sk-container-id-1 div.sk-toggleable {background-color: white;}#sk-container-id-1 label.sk-toggleable__label {cursor: pointer;display: block;width: 100%;margin-bottom: 0;padding: 0.3em;box-sizing: border-box;text-align: center;}#sk-container-id-1 label.sk-toggleable__label-arrow:before {content: \"▸\";float: left;margin-right: 0.25em;color: #696969;}#sk-container-id-1 label.sk-toggleable__label-arrow:hover:before {color: black;}#sk-container-id-1 div.sk-estimator:hover label.sk-toggleable__label-arrow:before {color: black;}#sk-container-id-1 div.sk-toggleable__content {max-height: 0;max-width: 0;overflow: hidden;text-align: left;background-color: #f0f8ff;}#sk-container-id-1 div.sk-toggleable__content pre {margin: 0.2em;color: black;border-radius: 0.25em;background-color: #f0f8ff;}#sk-container-id-1 input.sk-toggleable__control:checked~div.sk-toggleable__content {max-height: 200px;max-width: 100%;overflow: auto;}#sk-container-id-1 input.sk-toggleable__control:checked~label.sk-toggleable__label-arrow:before {content: \"▾\";}#sk-container-id-1 div.sk-estimator input.sk-toggleable__control:checked~label.sk-toggleable__label {background-color: #d4ebff;}#sk-container-id-1 div.sk-label input.sk-toggleable__control:checked~label.sk-toggleable__label {background-color: #d4ebff;}#sk-container-id-1 input.sk-hidden--visually {border: 0;clip: rect(1px 1px 1px 1px);clip: rect(1px, 1px, 1px, 1px);height: 1px;margin: -1px;overflow: hidden;padding: 0;position: absolute;width: 1px;}#sk-container-id-1 div.sk-estimator {font-family: monospace;background-color: #f0f8ff;border: 1px dotted black;border-radius: 0.25em;box-sizing: border-box;margin-bottom: 0.5em;}#sk-container-id-1 div.sk-estimator:hover {background-color: #d4ebff;}#sk-container-id-1 div.sk-parallel-item::after {content: \"\";width: 100%;border-bottom: 1px solid gray;flex-grow: 1;}#sk-container-id-1 div.sk-label:hover label.sk-toggleable__label {background-color: #d4ebff;}#sk-container-id-1 div.sk-serial::before {content: \"\";position: absolute;border-left: 1px solid gray;box-sizing: border-box;top: 0;bottom: 0;left: 50%;z-index: 0;}#sk-container-id-1 div.sk-serial {display: flex;flex-direction: column;align-items: center;background-color: white;padding-right: 0.2em;padding-left: 0.2em;position: relative;}#sk-container-id-1 div.sk-item {position: relative;z-index: 1;}#sk-container-id-1 div.sk-parallel {display: flex;align-items: stretch;justify-content: center;background-color: white;position: relative;}#sk-container-id-1 div.sk-item::before, #sk-container-id-1 div.sk-parallel-item::before {content: \"\";position: absolute;border-left: 1px solid gray;box-sizing: border-box;top: 0;bottom: 0;left: 50%;z-index: -1;}#sk-container-id-1 div.sk-parallel-item {display: flex;flex-direction: column;z-index: 1;position: relative;background-color: white;}#sk-container-id-1 div.sk-parallel-item:first-child::after {align-self: flex-end;width: 50%;}#sk-container-id-1 div.sk-parallel-item:last-child::after {align-self: flex-start;width: 50%;}#sk-container-id-1 div.sk-parallel-item:only-child::after {width: 0;}#sk-container-id-1 div.sk-dashed-wrapped {border: 1px dashed gray;margin: 0 0.4em 0.5em 0.4em;box-sizing: border-box;padding-bottom: 0.4em;background-color: white;}#sk-container-id-1 div.sk-label label {font-family: monospace;font-weight: bold;display: inline-block;line-height: 1.2em;}#sk-container-id-1 div.sk-label-container {text-align: center;}#sk-container-id-1 div.sk-container {/* jupyter's `normalize.less` sets `[hidden] { display: none; }` but bootstrap.min.css set `[hidden] { display: none !important; }` so we also need the `!important` here to be able to override the default hidden behavior on the sphinx rendered scikit-learn.org. See: https://github.com/scikit-learn/scikit-learn/issues/21755 */display: inline-block !important;position: relative;}#sk-container-id-1 div.sk-text-repr-fallback {display: none;}</style><div id=\"sk-container-id-1\" class=\"sk-top-container\"><div class=\"sk-text-repr-fallback\"><pre>NearestNeighbors(algorithm=&#x27;brute&#x27;, metric=&#x27;cosine&#x27;, n_jobs=-1, n_neighbors=30)</pre><b>In a Jupyter environment, please rerun this cell to show the HTML representation or trust the notebook. <br />On GitHub, the HTML representation is unable to render, please try loading this page with nbviewer.org.</b></div><div class=\"sk-container\" hidden><div class=\"sk-item\"><div class=\"sk-estimator sk-toggleable\"><input class=\"sk-toggleable__control sk-hidden--visually\" id=\"sk-estimator-id-1\" type=\"checkbox\" checked><label for=\"sk-estimator-id-1\" class=\"sk-toggleable__label sk-toggleable__label-arrow\">NearestNeighbors</label><div class=\"sk-toggleable__content\"><pre>NearestNeighbors(algorithm=&#x27;brute&#x27;, metric=&#x27;cosine&#x27;, n_jobs=-1, n_neighbors=30)</pre></div></div></div></div></div>"
      ],
      "text/plain": [
       "NearestNeighbors(algorithm='brute', metric='cosine', n_jobs=-1, n_neighbors=30)"
      ]
     },
     "execution_count": 4,
     "metadata": {},
     "output_type": "execute_result"
    }
   ],
   "source": [
    "neigh.fit(embeddings)"
   ]
  },
  {
   "cell_type": "code",
   "execution_count": 11,
   "id": "cb858716",
   "metadata": {
    "scrolled": true
   },
   "outputs": [
    {
     "data": {
      "text/plain": [
       "[('caparaçonner', 'Se protéger.'),\n",
       " ('parer', 'Se prémunir.'),\n",
       " ('dans la crainte de',\n",
       "  'Afin de se protéger de (quelque chose que l’on craint).'),\n",
       " ('de crainte de', 'Afin de se protéger de (quelque chose que l’on craint).'),\n",
       " ('garantir', 'Mettre à l’abri ; préserver de ; protéger de.'),\n",
       " ('garer', \"Mettre à l'abri du danger ; préserver.\"),\n",
       " ('entre-protéger', 'Se protéger mutuellement.'),\n",
       " ('s’entreprotéger', 'Se protéger mutuellement.'),\n",
       " ('s’entre-protéger', 'Se protéger mutuellement.'),\n",
       " ('entreprotéger', 'Se protéger mutuellement.'),\n",
       " ('se retrancher', 'Se mettre dans une position de défense.'),\n",
       " ('garer',\n",
       "  'Se préserver, se défendre de quelqu’un, de quelque chose, l’éviter.'),\n",
       " ('autoprotéger', 'Se protéger soi-même.'),\n",
       " ('auto-protéger', 'Se protéger soi-même.'),\n",
       " ('garder de', 'Prendre garde ; se préserver de quelque chose.'),\n",
       " ('sous couvert', 'En étant protégé par quelque chose.'),\n",
       " ('à l’abri de', 'Protégé contre.'),\n",
       " ('prévenir', \"Tenter d'éviter ; faire obstacle à, prémunir.\"),\n",
       " ('défensivement',\n",
       "  \"D'une manière défensive ; en se défendant ; pour se défendre.\"),\n",
       " ('bastionner', 'Protéger.'),\n",
       " ('arracher', 'Préserver ; soustraire à un danger.'),\n",
       " ('montrer les cornes', 'Se mettre en état de défense.'),\n",
       " ('carapace',\n",
       "  'Attitude ou comportement permettant de se protéger contre des agressions extérieures.'),\n",
       " ('parer', 'Parer à : Se protéger de, faire face à.\\xa0Remédier ; obvier.'),\n",
       " ('abriter', 'Se mettre à l’abri.'),\n",
       " ('engarder', 'Préserver, protéger.'),\n",
       " ('ashtanga',\n",
       "  'rasayanam\\xa0: la prévention et la construction de l’immunité ;'),\n",
       " ('s’abrier', \"Se mettre à l'abri, couvrir.\"),\n",
       " ('prémunition',\n",
       "  'Action de prémunir ou de se prémunir; résultat de cette action.'),\n",
       " ('abriter', 'Mettre à l’abri.')]"
      ]
     },
     "execution_count": 11,
     "metadata": {},
     "output_type": "execute_result"
    }
   ],
   "source": [
    "nearest_defs=neigh.kneighbors([model.encode(\"se protéger de\")], 30, return_distance=False)\n",
    "[(db_words[x],db_defs[x]) for i,x in enumerate(nearest_defs[0])]"
   ]
  },
  {
   "cell_type": "code",
   "execution_count": null,
   "id": "9e6619c4",
   "metadata": {},
   "outputs": [],
   "source": []
  },
  {
   "cell_type": "code",
   "execution_count": 49,
   "id": "430b35ec",
   "metadata": {},
   "outputs": [],
   "source": [
    "from wikitextparser import remove_markup, parse\n",
    "import re"
   ]
  },
  {
   "cell_type": "code",
   "execution_count": 544,
   "id": "5e7dd33a",
   "metadata": {},
   "outputs": [],
   "source": [
    " defs=[\"{{lexique|gymnastique|fr}} Appareil [[gymnique]], utilisé pour deux [[agrès]] différents : le [[cheval d’arçons]] et le [[saut de cheval]].\",\n",
    " \"{{péjoratif|fr}} Synonyme parfois utilisé pour désigner une personne.\",\n",
    " \"{{meubles héraldiques|fr}} [[meuble|Meuble]] représentant l’animal du même nom dans les [[armoiries]]. Il est généralement représenté de [[profil]] et [[passant]].\",\n",
    " \"{{lexique|jeux|fr}} Pièce de certains jeux comme les [[petits chevaux]], et parfois le [[cavalier]] aux [[échecs]] à cause de la forme de la pièce.\",\n",
    " \n",
    "       \"Défaut du [[marbre]] consistant en une [[cavité]] emplie de matière [[pulvérulent]]e, [[terreux|terreuse]]. (Note : on dit aussi une [[cendrure]].)\",\n",
    "      \"Marbre noir de [[Grece]]<ref>http://dictionnaire.reverso.net/francais-definition/parangon</ref>.\",\n",
    "      \"{{source|{{w|Toni Morrison}}, ''{{w|Beloved (roman)|Beloved}}'', 1987}}\",\n",
    "      \"\"\"* {{exemple|lang=fr|Julien '''partit''' à rire :<br/>– Ça devait être drôle !|source={{w|Richard Jorif}}, ''Le Burelain'', éditions François Bourin, 1989, page 202}}\"\"\",\n",
    "      \"{{minéraux|fr}} [[minéral|Minéral]] [[translucide]] et de couleur [[rouge]] [[sombre]] du groupe des [[nésosilicate]]s cristallisant dans le système cubique et de formule chimique {{fchim|X{{exp|2+}}|3|Y{{exp|3+}}|2|[SiO|4|{{exp|4−}}]|3}} ; c’est une [[gemme]] considérée comme une [[pierre]] [[semi-précieux|semi-précieuse]] et parfois utilisée comme [[abrasif]] en raison de sa [[dureté]].\",\n",
    "      \"{{term|il '''y a''' … et …}} Il existe divers … — {{usage}} Presque toujours utilisé à l’indicatif présent.\",\n",
    "      \"{{lexique|linguistique|fr}} [[consonne|Consonne]] longue répartie entre la fin d’une [[syllabe]] et le début de la syllabe suivante. En français, on trouve rarement la géminée {{pron|ʁʁ|fr}} comme dans ''[[courrai]]'' {{pron|ku'''ʁ.ʁ'''e|fr}}. Très commune en [[italien]], en [[japonais]], etc. \",\n",
    "      \"Ville du [[Mexique]] dont le nom [[officiel]] est {{lien|''Ciudad de México''|es|sens=Ville de Mexico}}. C’est la [[capitale]] du [[pays]] et l’une des plus grandes [[ville]]s du [[monde]]. La ville compte {{unité|8605239|[[habitant]]s}} (2000) mais l’[[agglomération]] compte plus de {{unité|{{nobr|18000000}}|d’habitants}} (2006) et [[s’étendre|s’étend]] sur plus de {{unité|1500|km²}}.\",\n",
    "      \"Qui [[mettre|met]] en [[danger]], qui [[exposer|expose]] à un danger ; ou [[simplement]], qui est [[nuisible]], [[pernicieux]].\",\n",
    "      \"{{variante de|platyrhinien|fr}}. {{note}} le grec {{polytonique|{{lien|ῥίς|grc}}, ῥινός|rhís, rhinós|nez}} ne donne pas normalement ''-rhyn-''. Il y a vraisemblablement confusion avec ''{{lien|platyrrhynques|fr}}''.\",\n",
    "      \"Portrait de {{w|Lisa Gherardini}} peint par {{w|Léonard de Vinci}}\",\n",
    "      \"{{lien|femme|fr|dif=Femme}} à l’{{lien|origine|fr}} de {{lien|quelque chose|fr}}.\",\n",
    "      '{{figuré|fr}} {{Québec|fr}} Effectuer un travail inutile. Travailler à reporter le travail, à accumuler ce dernier<ref name=\"oreilletendue\">http://oreilletendue.com/2013/11/15/ni-en-avant-ni-en-arriere/</ref>.',\n",
    "      \"{{désuet|fr}} ''({{siècle2|XIX}} siècle)'' \",\n",
    "      ' {{lexique|Internet|fr}} {{Canada|fr}} {{variante ortho de|blog}}.',\n",
    "      \"{{rare|fr}} {{désuet|fr}} Sorte de petit [[chien]] d’[[appartement]].\",\n",
    "      \"À la manière ou suivant la doctrine du philosophe {{w|Jean-Jacques Rousseau|Jean-Jacques {{petites capitales|Rousseau}}}}.\",\n",
    "      \"{{lexique[sexualite|fr}} \",\n",
    "      \" Relatif à {{w|Guillaume Ier (empereur allemand)|Guillaume I{{er}}}}, empereur allemand (1871-1888).\",\n",
    "      \"Au {{w|XVIe siècle|<small>XVI</small>{{e}} siècle}}, pendant les [[guerre]]s de [[religion]], une sauterie consistait à [[précipiter]] les [[ennemi]]s [[prisonnier]]s du haut de [[rempart]]s ou de [[falaise]]s<ref>http://correcteurs.blog.lemonde.fr/2009/02/27/que-diriez-vous-dune-petite-sauterie/</ref>.\",\n",
    "      \"{{lexique|histoire|fr}} [[armée|Armée]] impériale de {{w|Napoléon Ier|{{nobr|Napoléon I{{e|er}}}}}} de 1803 à 1814 et enfin pendant l’épisode des {{w|Cent-Jours}} en 1815.\",\n",
    "      \" {{info lex|histoire}} Habitant de l’[[Anjou]], ancienne province française.\",\n",
    "      \"{{lexique|CB|fr}} [[poids lourd|Poids lourd]], notamment [[semi-remorque]].[[Fichier:Le Mille-pattes.jpg|vignette|Un '''mille-pattes''']]\",\n",
    "      \"{{familier|fr}} [[envelopper|Envelopper]] [[quelqu’un]] de [[fourrure]]s, de [[vêtement]]s, [[surtout]] au [[cou]] et à la [[tête]], pour le [[tenir]] [[au chaud]].\"]\n"
   ]
  },
  {
   "cell_type": "code",
   "execution_count": 545,
   "id": "e6bb4c1a",
   "metadata": {},
   "outputs": [],
   "source": [
    "def format_formula(match_obj):\n",
    "    group=match_obj.group(1)\n",
    "    if group is not None:\n",
    "        return group.replace('}','').replace('{','').replace('|','')\n",
    "\n",
    "def format_qty(match_obj):\n",
    "    qty_unit=match_obj.group(1)\n",
    "    print(qty_unit)\n",
    "    qty,unit=qty_unit.split('|')\n",
    "    formated=\"\"\n",
    "    formated+=re.findall(\"\\d+\", qty)[0]\n",
    "    formated+=\" \"+unit.replace('|','').replace('{','').replace('}','').replace('[','').replace(']','')\n",
    "    return formated\n",
    "        \n",
    "    "
   ]
  },
  {
   "cell_type": "code",
   "execution_count": 547,
   "id": "af0a7c00",
   "metadata": {},
   "outputs": [
    {
     "data": {
      "text/plain": [
       "' Envelopper quelqu’un de fourrures, de vêtements, surtout au cou et à la tête, pour le tenir au chaud.'"
      ]
     },
     "execution_count": 547,
     "metadata": {},
     "output_type": "execute_result"
    }
   ],
   "source": [
    "def replace_template(raw_template):\n",
    "    \n",
    "    name=raw_template.name\n",
    "\n",
    "    if name in (\"lien\",\"siècle2\",\"petites capitales\",\"smcp\",\"pc\",\"nobr\"):\n",
    "        return parse(raw_template.arguments[0].value).plain_text(replace_templates=replace_template)\n",
    "\n",
    "    if name in ('er','re','e'):\n",
    "        return name\n",
    "\n",
    "    if name==\"lexique\":\n",
    "        return \"(\"+\", \".join(x.value for x in raw_template.arguments[:-1])+\")\"\n",
    "\n",
    "    if name==\"variante ortho de\":\n",
    "        return \"Variante orthographique de \"+raw_template.arguments[0].value\n",
    "        \n",
    "    if name==\"unité\":\n",
    "        qty,unit = raw_template.arguments\n",
    "        \n",
    "        unit=parse(unit.value).plain_text(replace_templates=replace_template)\n",
    "        \n",
    "        qty=parse(qty.value).plain_text(replace_templates=replace_template)\n",
    "  \n",
    "        return qty+\" \"+unit\n",
    "    if name==\"w\":\n",
    "        return parse(raw_template.arguments[-1].value).plain_text(replace_templates=replace_template)\n",
    "        \n",
    "        \n",
    "    if name==\"exemple\":\n",
    "        return \"\"\n",
    "    if name==\"fchim\":\n",
    "        return ''.join([x.value for x in raw_template.arguments])\n",
    "        \n",
    "    return \"\"\n",
    "\n",
    "\n",
    "#    if name==\"variante de\":\n",
    "\n",
    "def replace_wikilinks(wikilink):\n",
    "    print(wikilink)\n",
    "    return \"\"\n",
    "\n",
    "#check \"variant de\"\n",
    "parse(re.sub(\"\\[\\[Fichier:.*?\\]\\]\",'',re.sub(\"<ref[^>]*?>.*?</ref>\",'',defs[-1]))).plain_text(\n",
    " replace_templates=replace_template,\n",
    "    replace_external_links=True,\n",
    "    replace_wikilinks=replace_wikilinks,\n",
    "    \n",
    "\n",
    ")"
   ]
  },
  {
   "cell_type": "code",
   "execution_count": 7,
   "id": "d4766fdf",
   "metadata": {
    "scrolled": true
   },
   "outputs": [
    {
     "ename": "NameError",
     "evalue": "name 'parse' is not defined",
     "output_type": "error",
     "traceback": [
      "\u001b[0;31m---------------------------------------------------------------------------\u001b[0m",
      "\u001b[0;31mNameError\u001b[0m                                 Traceback (most recent call last)",
      "\u001b[0;32m/tmp/ipykernel_16275/2798517010.py\u001b[0m in \u001b[0;36m<module>\u001b[0;34m\u001b[0m\n\u001b[0;32m----> 1\u001b[0;31m \u001b[0mparse\u001b[0m\u001b[0;34m(\u001b[0m\u001b[0mdefs\u001b[0m\u001b[0;34m[\u001b[0m\u001b[0;34m-\u001b[0m\u001b[0;36m1\u001b[0m\u001b[0;34m]\u001b[0m\u001b[0;34m)\u001b[0m\u001b[0;34m.\u001b[0m\u001b[0mtemplates\u001b[0m\u001b[0;34m[\u001b[0m\u001b[0;36m0\u001b[0m\u001b[0;34m]\u001b[0m\u001b[0;34m.\u001b[0m\u001b[0mname\u001b[0m \u001b[0;31m#'variante de'\u001b[0m\u001b[0;34m\u001b[0m\u001b[0;34m\u001b[0m\u001b[0m\n\u001b[0m",
      "\u001b[0;31mNameError\u001b[0m: name 'parse' is not defined"
     ]
    }
   ],
   "source": [
    "\n",
    "parse(defs[-1]).templates[0].name #'variante de'"
   ]
  },
  {
   "cell_type": "code",
   "execution_count": null,
   "id": "38b60c39",
   "metadata": {},
   "outputs": [],
   "source": [
    "{{lexique|CB|fr}} [[poids lourd|Poids lourd]], notamment [[semi-remorque]].[[Fichier:Le Mille-pattes.jpg|vignette|Un '''mille-pattes''']]"
   ]
  }
 ],
 "metadata": {
  "kernelspec": {
   "display_name": "Python 3 (ipykernel)",
   "language": "python",
   "name": "python3"
  },
  "language_info": {
   "codemirror_mode": {
    "name": "ipython",
    "version": 3
   },
   "file_extension": ".py",
   "mimetype": "text/x-python",
   "name": "python",
   "nbconvert_exporter": "python",
   "pygments_lexer": "ipython3",
   "version": "3.10.4"
  }
 },
 "nbformat": 4,
 "nbformat_minor": 5
}
