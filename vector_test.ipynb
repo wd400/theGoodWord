{
 "cells": [
  {
   "cell_type": "code",
   "execution_count": 3,
   "id": "428f8cc3",
   "metadata": {},
   "outputs": [],
   "source": [
    "import sqlite3\n",
    "import time\n",
    "import numpy as np\n",
    "from sentence_transformers import SentenceTransformer\n",
    "\n",
    "model = SentenceTransformer('inokufu/flaubert-base-uncased-xnli-sts')\n",
    "connection = sqlite3.connect(\"database_fr.db\")\n",
    "cursor = connection.cursor()\n",
    "db_data = cursor.execute(\"SELECT id,word,definition FROM dictionary\").fetchall()\n",
    "cursor.close()\n",
    "connection.close()\n",
    "db_data.sort(key=lambda x:x[0])\n",
    "db_defs=[ row[2] for row in db_data]\n",
    "db_words=[row[1] for row in db_data]"
   ]
  },
  {
   "cell_type": "code",
   "execution_count": 4,
   "id": "381fb665",
   "metadata": {
    "scrolled": true
   },
   "outputs": [
    {
     "name": "stdout",
     "output_type": "stream",
     "text": [
      "28262.571580648422\n"
     ]
    }
   ],
   "source": [
    "start = time.time()\n",
    "embeddings = model.encode(db_defs)\n",
    "end = time.time()\n",
    "print(end - start)\n",
    "with open('def_embeddings_fr.npy', 'wb') as f:\n",
    "    np.save(f, embeddings)\n",
    "#1000=1min"
   ]
  },
  {
   "cell_type": "code",
   "execution_count": 25,
   "id": "ccd549a6",
   "metadata": {
    "scrolled": false
   },
   "outputs": [
    {
     "data": {
      "text/plain": [
       "567929"
      ]
     },
     "execution_count": 25,
     "metadata": {},
     "output_type": "execute_result"
    }
   ],
   "source": []
  },
  {
   "cell_type": "code",
   "execution_count": 1,
   "id": "bf463414",
   "metadata": {},
   "outputs": [],
   "source": [
    "import sqlite3\n",
    "import time\n",
    "import numpy as np\n",
    "from sentence_transformers import SentenceTransformer\n",
    "\n",
    "model = SentenceTransformer('sentence-transformers/all-MiniLM-L6-v2')\n",
    "connection = sqlite3.connect(\"database_en.db\")\n",
    "cursor = connection.cursor()\n",
    "db_data = cursor.execute(\"SELECT id,word,definition FROM dictionary\").fetchall()\n",
    "cursor.close()\n",
    "connection.close()\n",
    "db_data.sort(key=lambda x:x[0])\n",
    "db_defs=[ row[2] for row in db_data]\n",
    "db_words=[row[1] for row in db_data]"
   ]
  },
  {
   "cell_type": "code",
   "execution_count": 2,
   "id": "44a298b7",
   "metadata": {},
   "outputs": [
    {
     "name": "stdout",
     "output_type": "stream",
     "text": [
      "15188.562319993973\n"
     ]
    }
   ],
   "source": [
    "start = time.time()\n",
    "embeddings = model.encode(db_defs)\n",
    "end = time.time()\n",
    "print(end - start)\n",
    "with open('def_embeddings_en.npy', 'wb') as f:\n",
    "    np.save(f, embeddings)\n",
    "#https://huggingface.co/models?language=fr&library=sentence-transformers&sort=downloads"
   ]
  },
  {
   "cell_type": "code",
   "execution_count": 2,
   "id": "3c808293",
   "metadata": {},
   "outputs": [],
   "source": [
    "from sklearn.neighbors import NearestNeighbors\n",
    "###TODO### ENLEVER les \"variante de\""
   ]
  },
  {
   "cell_type": "code",
   "execution_count": 3,
   "id": "143097c0",
   "metadata": {},
   "outputs": [],
   "source": [
    "neigh = NearestNeighbors(n_neighbors=30,  metric='cosine',\n",
    "                         algorithm='brute',\n",
    "                         n_jobs=-1)"
   ]
  },
  {
   "cell_type": "code",
   "execution_count": 4,
   "id": "0f486fcb",
   "metadata": {},
   "outputs": [
    {
     "data": {
      "text/html": [
       "<style>#sk-container-id-1 {color: black;background-color: white;}#sk-container-id-1 pre{padding: 0;}#sk-container-id-1 div.sk-toggleable {background-color: white;}#sk-container-id-1 label.sk-toggleable__label {cursor: pointer;display: block;width: 100%;margin-bottom: 0;padding: 0.3em;box-sizing: border-box;text-align: center;}#sk-container-id-1 label.sk-toggleable__label-arrow:before {content: \"▸\";float: left;margin-right: 0.25em;color: #696969;}#sk-container-id-1 label.sk-toggleable__label-arrow:hover:before {color: black;}#sk-container-id-1 div.sk-estimator:hover label.sk-toggleable__label-arrow:before {color: black;}#sk-container-id-1 div.sk-toggleable__content {max-height: 0;max-width: 0;overflow: hidden;text-align: left;background-color: #f0f8ff;}#sk-container-id-1 div.sk-toggleable__content pre {margin: 0.2em;color: black;border-radius: 0.25em;background-color: #f0f8ff;}#sk-container-id-1 input.sk-toggleable__control:checked~div.sk-toggleable__content {max-height: 200px;max-width: 100%;overflow: auto;}#sk-container-id-1 input.sk-toggleable__control:checked~label.sk-toggleable__label-arrow:before {content: \"▾\";}#sk-container-id-1 div.sk-estimator input.sk-toggleable__control:checked~label.sk-toggleable__label {background-color: #d4ebff;}#sk-container-id-1 div.sk-label input.sk-toggleable__control:checked~label.sk-toggleable__label {background-color: #d4ebff;}#sk-container-id-1 input.sk-hidden--visually {border: 0;clip: rect(1px 1px 1px 1px);clip: rect(1px, 1px, 1px, 1px);height: 1px;margin: -1px;overflow: hidden;padding: 0;position: absolute;width: 1px;}#sk-container-id-1 div.sk-estimator {font-family: monospace;background-color: #f0f8ff;border: 1px dotted black;border-radius: 0.25em;box-sizing: border-box;margin-bottom: 0.5em;}#sk-container-id-1 div.sk-estimator:hover {background-color: #d4ebff;}#sk-container-id-1 div.sk-parallel-item::after {content: \"\";width: 100%;border-bottom: 1px solid gray;flex-grow: 1;}#sk-container-id-1 div.sk-label:hover label.sk-toggleable__label {background-color: #d4ebff;}#sk-container-id-1 div.sk-serial::before {content: \"\";position: absolute;border-left: 1px solid gray;box-sizing: border-box;top: 0;bottom: 0;left: 50%;z-index: 0;}#sk-container-id-1 div.sk-serial {display: flex;flex-direction: column;align-items: center;background-color: white;padding-right: 0.2em;padding-left: 0.2em;position: relative;}#sk-container-id-1 div.sk-item {position: relative;z-index: 1;}#sk-container-id-1 div.sk-parallel {display: flex;align-items: stretch;justify-content: center;background-color: white;position: relative;}#sk-container-id-1 div.sk-item::before, #sk-container-id-1 div.sk-parallel-item::before {content: \"\";position: absolute;border-left: 1px solid gray;box-sizing: border-box;top: 0;bottom: 0;left: 50%;z-index: -1;}#sk-container-id-1 div.sk-parallel-item {display: flex;flex-direction: column;z-index: 1;position: relative;background-color: white;}#sk-container-id-1 div.sk-parallel-item:first-child::after {align-self: flex-end;width: 50%;}#sk-container-id-1 div.sk-parallel-item:last-child::after {align-self: flex-start;width: 50%;}#sk-container-id-1 div.sk-parallel-item:only-child::after {width: 0;}#sk-container-id-1 div.sk-dashed-wrapped {border: 1px dashed gray;margin: 0 0.4em 0.5em 0.4em;box-sizing: border-box;padding-bottom: 0.4em;background-color: white;}#sk-container-id-1 div.sk-label label {font-family: monospace;font-weight: bold;display: inline-block;line-height: 1.2em;}#sk-container-id-1 div.sk-label-container {text-align: center;}#sk-container-id-1 div.sk-container {/* jupyter's `normalize.less` sets `[hidden] { display: none; }` but bootstrap.min.css set `[hidden] { display: none !important; }` so we also need the `!important` here to be able to override the default hidden behavior on the sphinx rendered scikit-learn.org. See: https://github.com/scikit-learn/scikit-learn/issues/21755 */display: inline-block !important;position: relative;}#sk-container-id-1 div.sk-text-repr-fallback {display: none;}</style><div id=\"sk-container-id-1\" class=\"sk-top-container\"><div class=\"sk-text-repr-fallback\"><pre>NearestNeighbors(algorithm=&#x27;brute&#x27;, metric=&#x27;cosine&#x27;, n_jobs=-1, n_neighbors=30)</pre><b>In a Jupyter environment, please rerun this cell to show the HTML representation or trust the notebook. <br />On GitHub, the HTML representation is unable to render, please try loading this page with nbviewer.org.</b></div><div class=\"sk-container\" hidden><div class=\"sk-item\"><div class=\"sk-estimator sk-toggleable\"><input class=\"sk-toggleable__control sk-hidden--visually\" id=\"sk-estimator-id-1\" type=\"checkbox\" checked><label for=\"sk-estimator-id-1\" class=\"sk-toggleable__label sk-toggleable__label-arrow\">NearestNeighbors</label><div class=\"sk-toggleable__content\"><pre>NearestNeighbors(algorithm=&#x27;brute&#x27;, metric=&#x27;cosine&#x27;, n_jobs=-1, n_neighbors=30)</pre></div></div></div></div></div>"
      ],
      "text/plain": [
       "NearestNeighbors(algorithm='brute', metric='cosine', n_jobs=-1, n_neighbors=30)"
      ]
     },
     "execution_count": 4,
     "metadata": {},
     "output_type": "execute_result"
    }
   ],
   "source": [
    "neigh.fit(embeddings)"
   ]
  },
  {
   "cell_type": "code",
   "execution_count": 11,
   "id": "cb858716",
   "metadata": {
    "scrolled": true
   },
   "outputs": [
    {
     "data": {
      "text/plain": [
       "[('caparaçonner', 'Se protéger.'),\n",
       " ('parer', 'Se prémunir.'),\n",
       " ('dans la crainte de',\n",
       "  'Afin de se protéger de (quelque chose que l’on craint).'),\n",
       " ('de crainte de', 'Afin de se protéger de (quelque chose que l’on craint).'),\n",
       " ('garantir', 'Mettre à l’abri ; préserver de ; protéger de.'),\n",
       " ('garer', \"Mettre à l'abri du danger ; préserver.\"),\n",
       " ('entre-protéger', 'Se protéger mutuellement.'),\n",
       " ('s’entreprotéger', 'Se protéger mutuellement.'),\n",
       " ('s’entre-protéger', 'Se protéger mutuellement.'),\n",
       " ('entreprotéger', 'Se protéger mutuellement.'),\n",
       " ('se retrancher', 'Se mettre dans une position de défense.'),\n",
       " ('garer',\n",
       "  'Se préserver, se défendre de quelqu’un, de quelque chose, l’éviter.'),\n",
       " ('autoprotéger', 'Se protéger soi-même.'),\n",
       " ('auto-protéger', 'Se protéger soi-même.'),\n",
       " ('garder de', 'Prendre garde ; se préserver de quelque chose.'),\n",
       " ('sous couvert', 'En étant protégé par quelque chose.'),\n",
       " ('à l’abri de', 'Protégé contre.'),\n",
       " ('prévenir', \"Tenter d'éviter ; faire obstacle à, prémunir.\"),\n",
       " ('défensivement',\n",
       "  \"D'une manière défensive ; en se défendant ; pour se défendre.\"),\n",
       " ('bastionner', 'Protéger.'),\n",
       " ('arracher', 'Préserver ; soustraire à un danger.'),\n",
       " ('montrer les cornes', 'Se mettre en état de défense.'),\n",
       " ('carapace',\n",
       "  'Attitude ou comportement permettant de se protéger contre des agressions extérieures.'),\n",
       " ('parer', 'Parer à : Se protéger de, faire face à.\\xa0Remédier ; obvier.'),\n",
       " ('abriter', 'Se mettre à l’abri.'),\n",
       " ('engarder', 'Préserver, protéger.'),\n",
       " ('ashtanga',\n",
       "  'rasayanam\\xa0: la prévention et la construction de l’immunité ;'),\n",
       " ('s’abrier', \"Se mettre à l'abri, couvrir.\"),\n",
       " ('prémunition',\n",
       "  'Action de prémunir ou de se prémunir; résultat de cette action.'),\n",
       " ('abriter', 'Mettre à l’abri.')]"
      ]
     },
     "execution_count": 11,
     "metadata": {},
     "output_type": "execute_result"
    }
   ],
   "source": [
    "nearest_defs=neigh.kneighbors([model.encode(\"se protéger de\")], 30, return_distance=False)\n",
    "[(db_words[x],db_defs[x]) for i,x in enumerate(nearest_defs[0])]"
   ]
  },
  {
   "cell_type": "code",
   "execution_count": 6,
   "id": "9e6619c4",
   "metadata": {},
   "outputs": [
    {
     "data": {
      "text/plain": [
       "7.850555555555555"
      ]
     },
     "execution_count": 6,
     "metadata": {},
     "output_type": "execute_result"
    }
   ],
   "source": [
    "28262/(60*60)"
   ]
  },
  {
   "cell_type": "code",
   "execution_count": null,
   "id": "edcf7df6",
   "metadata": {},
   "outputs": [],
   "source": []
  }
 ],
 "metadata": {
  "kernelspec": {
   "display_name": "Python 3 (ipykernel)",
   "language": "python",
   "name": "python3"
  },
  "language_info": {
   "codemirror_mode": {
    "name": "ipython",
    "version": 3
   },
   "file_extension": ".py",
   "mimetype": "text/x-python",
   "name": "python",
   "nbconvert_exporter": "python",
   "pygments_lexer": "ipython3",
   "version": "3.10.4"
  }
 },
 "nbformat": 4,
 "nbformat_minor": 5
}
